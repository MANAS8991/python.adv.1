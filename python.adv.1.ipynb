{
 "cells": [
  {
   "cell_type": "markdown",
   "id": "8f58d879",
   "metadata": {},
   "source": [
    "# Q1. What is the purpose of Python&#39;s OOP?"
   ]
  },
  {
   "cell_type": "markdown",
   "id": "6676e39a",
   "metadata": {},
   "source": [
    "The key concepts in Python's OOP are:\n",
    "\n",
    "Classes: Classes are blueprints or templates for creating objects. They define the attributes (data) and methods (functions) that objects of that class will have.\n",
    "\n",
    "Objects: Objects are instances of classes. They can hold data (attributes) and perform actions (methods) defined by the class.\n",
    "\n",
    "Encapsulation: Encapsulation refers to the bundling of data and related methods within a class. It allows for data hiding and abstraction, where the internal implementation details are hidden from the outside world, and only the necessary interface is exposed.\n",
    "\n",
    "Inheritance: Inheritance allows the creation of new classes (derived classes) based on existing classes (base classes). The derived class inherits the attributes and methods of the base class, enabling code reuse and promoting a hierarchical organization of classes.\n",
    "\n",
    "Polymorphism: Polymorphism allows objects of different classes to be treated as objects of a common superclass. It provides flexibility by allowing different objects to respond to the same method call in different ways, based on their specific implementation."
   ]
  },
  {
   "cell_type": "markdown",
   "id": "03f9a983",
   "metadata": {},
   "source": [
    "# Q2. Where does an inheritance search look for an attribute?"
   ]
  },
  {
   "cell_type": "markdown",
   "id": "cb3b49ab",
   "metadata": {},
   "source": [
    "In Python, when an attribute is accessed on an object, the inheritance search follows a specific order known as the Method Resolution Order (MRO). The MRO determines where Python looks for the attribute if it's not found directly in the object's class. The inheritance search looks for an attribute in the following order:\n",
    "\n",
    "The object itself: Python first checks if the attribute is present in the object itself. If found, it is used, and the search ends.\n",
    "\n",
    "The object's class: If the attribute is not found in the object, Python looks for it in the object's class. If found, it is used, and the search ends.\n",
    "\n",
    "The superclass(es): If the attribute is not found in the object's class, Python continues searching in the superclass(es) in the order they are defined. The search proceeds recursively up the inheritance hierarchy until the attribute is found or the search reaches the topmost superclass (usually the base object class).\n",
    "\n",
    "Inherited interfaces: If the attribute is still not found, Python looks for it in any interfaces implemented by the object's class or its superclasses.\n",
    "\n",
    "Global scope and built-in scope: If the attribute is not found in any of the above steps, Python finally checks the global scope (module-level scope) and built-in scope to see if the attribute is defined there."
   ]
  },
  {
   "cell_type": "markdown",
   "id": "bcf2c146",
   "metadata": {},
   "source": [
    "# Q3. How do you distinguish between a class object and an instance object?"
   ]
  },
  {
   "cell_type": "markdown",
   "id": "5c63581f",
   "metadata": {},
   "source": [
    "Class Object: A class object is created when a class is defined. It serves as a blueprint or template for creating instances of that class. It defines the attributes and methods that the instances will have. The class object itself is an instance of the metaclass (usually the type class). Class objects are used to create new instances of the class by calling the class as if it were a function (e.g., obj = MyClass()).\n",
    "\n",
    "Instance Object: An instance object, also known as an instance, is created when a class is instantiated using the class object. It represents a specific occurrence or realization of the class. Each instance has its own set of attributes and can have different attribute values compared to other instances of the same class. Instances are created by calling the class object as a function, and each call returns a new instance of the class with its unique identity.\n",
    "\n",
    "To summarize, the main differences between a class object and an instance object are:\n",
    "\n",
    "A class object is created when a class is defined, while an instance object is created when a class is instantiated.\n",
    "Class objects define the attributes and methods that instances will have, while instance objects hold specific attribute values and can have unique behavior.\n",
    "Class objects are used to create instances by calling the class as a function, while instances are created as a result of that call."
   ]
  },
  {
   "cell_type": "markdown",
   "id": "03a1bd6d",
   "metadata": {},
   "source": [
    "# Q4. What makes the first argument in a class’s method function special?"
   ]
  },
  {
   "cell_type": "markdown",
   "id": "6b461c64",
   "metadata": {},
   "source": [
    "In Python, the first argument in a class's method function is conventionally named self, although any valid variable name can be used. The self parameter represents the instance object calling the method. It is a reference to the specific instance on which the method is being invoked.\n",
    "\n",
    "The self parameter allows the method to access and manipulate the instance's attributes and perform operations specific to that instance. By convention, the first parameter of every instance method in a class should be self, although it is not a keyword and can be replaced with any valid variable name. However, using self is a widely adopted convention in the Python community and makes the code more readable and understandable.\n",
    "\n",
    "When a method is called on an instance, Python automatically passes the instance object as the first argument to the method, which is why the self parameter is used to capture this reference. By using self, you can access the attributes and methods of the instance within the method implementation."
   ]
  },
  {
   "cell_type": "markdown",
   "id": "510782d1",
   "metadata": {},
   "source": [
    "# Q5. What is the purpose of the __init__ method?"
   ]
  },
  {
   "cell_type": "markdown",
   "id": "98129754",
   "metadata": {},
   "source": [
    "The __init__ method is a special method in Python classes that is automatically called when an object is created from the class. It is known as the constructor method or initializer method. The primary purpose of the __init__ method is to initialize the attributes of an object.\n",
    "\n",
    "Here are the key aspects and purposes of the __init__ method:\n",
    "\n",
    "Initialization: The __init__ method initializes the attributes of an object by assigning values to them. It sets the initial state of the object when it is created. This is where you typically define and assign values to instance variables (attributes) specific to the object.\n",
    "\n",
    "Automatic Invocation: When you create an object from a class using the class name followed by parentheses, Python automatically calls the __init__ method for that object. The __init__ method is executed as part of the object creation process.\n",
    "\n",
    "Parameter Passing: The __init__ method accepts parameters that allow you to pass values from the object creation statement to the method. By convention, the first parameter is self, which represents the instance object being created. You can define additional parameters in the __init__ method to receive values that are required to initialize the object's attributes.\n",
    "\n",
    "Customization: The __init__ method provides an opportunity to customize the object creation process. You can perform additional operations, validations, or setup tasks within the __init__ method to ensure the object is properly initialized.\n",
    "\n",
    "Optional: The __init__ method is not mandatory in a class. If a class does not have an __init__ method, Python automatically provides a default one. However, defining an __init__ method allows you to control the initialization process and ensure the object is initialized according to your requirements."
   ]
  },
  {
   "cell_type": "markdown",
   "id": "4edaf0ab",
   "metadata": {},
   "source": [
    "# Q6. What is the process for creating a class instance?"
   ]
  },
  {
   "cell_type": "raw",
   "id": "fd2f06e3",
   "metadata": {},
   "source": [
    "The process for creating a class instance in Python involves the following steps:\n",
    "\n",
    "Class Definition: Define a class by using the class keyword followed by the class name. Inside the class, you can define attributes (variables) and methods (functions) that belong to the class.\n",
    "\n",
    "Instantiation: To create an instance of a class, use the class name followed by parentheses. This calls the class's special method __init__, which initializes the attributes of the instance.\n",
    "\n",
    "Attribute Assignment: After creating an instance, you can assign values to its attributes (variables) using dot notation. The attributes are accessed using the instance name followed by a dot and then the attribute name. You can assign values to these attributes based on your requirements.\n",
    "\n",
    "Object Usage: Once the instance is created and attributes are assigned, you can use the instance to access its attributes and invoke its methods. You can perform operations, access data, or call functions associated with the instance."
   ]
  },
  {
   "cell_type": "markdown",
   "id": "0fefd0e4",
   "metadata": {},
   "source": [
    "# Q7. What is the process for creating a class?"
   ]
  },
  {
   "cell_type": "raw",
   "id": "ff8634dd",
   "metadata": {},
   "source": [
    "The process for creating a class in Python involves the following steps:\n",
    "\n",
    "Class Definition: Use the class keyword followed by the name of the class. Inside the class block, you can define attributes (variables) and methods (functions) that belong to the class.\n",
    "\n",
    "Constructor Method: Define a special method called __init__ (constructor) within the class. This method is called automatically when an instance of the class is created and is used to initialize the attributes of the instance.\n",
    "\n",
    "Attribute Definition: Inside the __init__ method, define the attributes (variables) that you want the instances of the class to have. These attributes will hold specific data unique to each instance.\n",
    "\n",
    "Method Definition: Define other methods (functions) within the class to perform various actions or operations on the attributes of the instances. These methods can access and modify the attributes of the class instances.\n",
    "\n",
    "Object Creation: To create an instance of the class, call the class name followed by parentheses. This calls the constructor method (__init__) and creates a new instance of the class with its own set of attributes.\n",
    "\n",
    "Attribute Access and Method Invocation: Once the instance is created, you can access its attributes and invoke its methods using dot notation. Use the instance name followed by a dot and then the attribute or method name to perform operations or retrieve information associated with the instance."
   ]
  },
  {
   "cell_type": "markdown",
   "id": "5b972fda",
   "metadata": {},
   "source": [
    "# Q8. How would you define the superclasses of a class?"
   ]
  },
  {
   "cell_type": "code",
   "execution_count": null,
   "id": "7e2800cb",
   "metadata": {},
   "outputs": [],
   "source": [
    "The superclasses of a class are defined by specifying them inside parentheses after the class name in the class definition. This is known as class inheritance. A class can have one or more superclasses, and it inherits the attributes and methods from its superclasses.\n",
    "\n",
    "The general syntax to define a class with superclasses is as follows:\n",
    " class ClassName(Superclass1, Superclass2, ...):\n",
    "    # Class body\n",
    "    # Attribute and method definitions\n",
    "Here's an example that demonstrates the definition of a class with superclasses:\n",
    "\n",
    "class Animal:\n",
    "    def __init__(self, name):\n",
    "        self.name = name\n",
    "\n",
    "    def eat(self):\n",
    "        print(f\"{self.name} is eating.\")\n",
    "\n",
    "class Dog(Animal):\n",
    "    def bark(self):\n",
    "        print(\"Woof!\")\n",
    "\n",
    "# Create an instance of the Dog class\n",
    "dog = Dog(\"Buddy\")\n",
    "\n",
    "# Access attributes and invoke methods from the superclass\n",
    "print(dog.name)     # Output: Buddy\n",
    "dog.eat()           # Output: Buddy is eating.\n",
    "\n",
    "# Invoke method defined in the subclass\n",
    "dog.bark()          # Output: Woof!\n",
    "\n",
    "\n"
   ]
  }
 ],
 "metadata": {
  "kernelspec": {
   "display_name": "Python 3 (ipykernel)",
   "language": "python",
   "name": "python3"
  },
  "language_info": {
   "codemirror_mode": {
    "name": "ipython",
    "version": 3
   },
   "file_extension": ".py",
   "mimetype": "text/x-python",
   "name": "python",
   "nbconvert_exporter": "python",
   "pygments_lexer": "ipython3",
   "version": "3.9.12"
  }
 },
 "nbformat": 4,
 "nbformat_minor": 5
}
